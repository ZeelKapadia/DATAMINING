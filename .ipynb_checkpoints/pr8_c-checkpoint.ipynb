{
 "cells": [
  {
   "cell_type": "code",
   "execution_count": 24,
   "metadata": {},
   "outputs": [
    {
     "ename": "SyntaxError",
     "evalue": "invalid syntax (<ipython-input-24-8ed0177e7bbf>, line 35)",
     "output_type": "error",
     "traceback": [
      "\u001b[1;36m  File \u001b[1;32m\"<ipython-input-24-8ed0177e7bbf>\"\u001b[1;36m, line \u001b[1;32m35\u001b[0m\n\u001b[1;33m    y_pred = clf object.predict(X_test)\u001b[0m\n\u001b[1;37m                      ^\u001b[0m\n\u001b[1;31mSyntaxError\u001b[0m\u001b[1;31m:\u001b[0m invalid syntax\n"
     ]
    }
   ],
   "source": [
    "import pandas as pd\n",
    "from sklearn.model_selection import train_test_split\n",
    "from sklearn.preprocessing import LabelEncoder\n",
    "from sklearn.preprocessing import StandardScaler\n",
    "from sklearn.tree import DecisionTreeClassifier\n",
    "\n",
    "df=pd.read_csv('airport-codes_csv.csv')\n",
    "\n",
    "l=LabelEncoder()\n",
    "df[\"elevation_ft\"]=l.fit_transform(df[\"elevation_ft\"]) \n",
    "df[\"elevation_ft\"].unique()\n",
    "df[\"ident\"]=l.fit_transform(df[\"ident\"]) \n",
    "df[\"ident\"].unique()\n",
    "df[\"coordinates\"]=l.fit_transform(df[\"coordinates\"]) \n",
    "df[\"coordinates\"].unique()\n",
    "\n",
    "x=df[[\"ident\",\"coordinates\"]]\n",
    "\n",
    "y=df[[\"elevation_ft\"]]\n",
    "\n",
    "scaler = StandardScaler()\n",
    "\n",
    "x_train, x_test, y_train, y_test = train_test_split(x, y, test_size=0.20)\n",
    "scaler.fit(x_train)\n",
    "\n",
    "x_train = scaler.transform(x_train)\n",
    "x_test = scaler.transform(x_test)\n",
    "\n",
    "clf_gini = DecisionTreeClassifier(criterion = \"gini\",random_state = 100,max_depth=3, min_samples_leaf=5)\n",
    "clf_gini.fit(x_train, y_train)\n",
    "\n",
    "clf_entropy = DecisionTreeClassifier(criterion = \"entropy\", random_state = 100,max_depth = 3, min_samples_leaf = 5)\n",
    "clf_entropy.fit(x_train, y_train)\n",
    "\n",
    "y_pred = clf(object.predict(X_test))\n",
    "print(\"Predicted values:\")\n",
    "print(y_pred) \n",
    "print(\"Confusion Matrix: \",\n",
    "confusion_matrix(y_test, y_pred))\n",
    "      \n",
    "print (\"Accuracy : \",\n",
    "accuracy_score(y_test,y_pred)*100)\n",
    "      \n",
    "print(\"Report : \",classificatiprint(\"Confusion Matrix: \",confusion_matrix(y_test, y_pred)))\n",
    "\n",
    "x, y, x_train, x_test, y_train, y_test = splitdataset(data)\n",
    "clf_gini = train_using_gini(x_train, x_test, y_train)\n",
    "clf_entropy = tarin_using_entropy(x_train, x_test, y_train)\n",
    "\n",
    "y_pred_gini = prediction(X_test, clf_gini)\n",
    "cal_accuracy(y_test, y_pred_gini)\n",
    "\n"
   ]
  },
  {
   "cell_type": "code",
   "execution_count": null,
   "metadata": {},
   "outputs": [],
   "source": []
  }
 ],
 "metadata": {
  "kernelspec": {
   "display_name": "Python 3",
   "language": "python",
   "name": "python3"
  },
  "language_info": {
   "codemirror_mode": {
    "name": "ipython",
    "version": 3
   },
   "file_extension": ".py",
   "mimetype": "text/x-python",
   "name": "python",
   "nbconvert_exporter": "python",
   "pygments_lexer": "ipython3",
   "version": "3.7.4"
  }
 },
 "nbformat": 4,
 "nbformat_minor": 2
}
